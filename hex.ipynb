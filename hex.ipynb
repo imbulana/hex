{
 "cells": [
  {
   "cell_type": "code",
   "execution_count": 1,
   "metadata": {},
   "outputs": [],
   "source": [
    "from hex import *\n",
    "import time"
   ]
  },
  {
   "cell_type": "code",
   "execution_count": 2,
   "metadata": {},
   "outputs": [
    {
     "name": "stdout",
     "output_type": "stream",
     "text": [
      "   1  2  3  \n",
      "  4  5  6  7  \n",
      " 0  9  8 10 11\n",
      " 12 13 14 15  \n",
      "  16 17 18  \n",
      "\n",
      "   1  2  3  \n",
      "  4  5  6  7  \n",
      "12  9  8 10 11\n",
      "  0 13 14 15  \n",
      "  16 17 18  \n",
      "\n",
      "   1  2  3  \n",
      "  4  5  6  7  \n",
      "12  9  8 10 11\n",
      " 13  0 14 15  \n",
      "  16 17 18  \n",
      "\n",
      "   1  2  3  \n",
      "  4  5  6  7  \n",
      "12  0  8 10 11\n",
      " 13  9 14 15  \n",
      "  16 17 18  \n",
      "\n",
      "   1  2  3  \n",
      "  4  5  6  7  \n",
      "12  8  0 10 11\n",
      " 13  9 14 15  \n",
      "  16 17 18  \n",
      "\n",
      "   1  2  3  \n",
      "  4  5  6  7  \n",
      "12  8  9 10 11\n",
      " 13  0 14 15  \n",
      "  16 17 18  \n",
      "\n",
      "   1  2  3  \n",
      "  4  5  6  7  \n",
      "12  8  9 10 11\n",
      "  0 13 14 15  \n",
      "  16 17 18  \n",
      "\n",
      "   1  2  3  \n",
      "  4  5  6  7  \n",
      " 0  8  9 10 11\n",
      " 12 13 14 15  \n",
      "  16 17 18  \n",
      "\n",
      "   1  2  3  \n",
      "  4  5  6  7  \n",
      " 8  0  9 10 11\n",
      " 12 13 14 15  \n",
      "  16 17 18  \n",
      "\n",
      "   1  2  3  \n",
      "  4  5  6  7  \n",
      " 8  9  0 10 11\n",
      " 12 13 14 15  \n",
      "  16 17 18  \n",
      "\n",
      "9\n",
      "0.06263649999999998\n"
     ]
    }
   ],
   "source": [
    "board=[[8],\n",
    "       [9,5,6,10,14,13], \n",
    "       [0,4,1,2,3,7,11,15,18,17,16,12]]\n",
    "\n",
    "# board=[[13], [14, 16, 2, 17, 6, 8], [4, 0, 1, 5, 10, 3, 11, 18, 9, 15, 7, 12]]\n",
    "\n",
    "puzzle=Puzzle(board)\n",
    "s=Astar(puzzle)\n",
    "tic=time.process_time()\n",
    "p=s.solve()\n",
    "toc=time.process_time()\n",
    "\n",
    "for u in p:\n",
    "  # print(u)\n",
    "  u.display()\n",
    "  print()\n",
    "  # print(u.display())\n",
    "print(u.g if p else 'no solution')\n",
    "\n",
    "print(toc-tic)"
   ]
  }
 ],
 "metadata": {
  "kernelspec": {
   "display_name": "Python 3",
   "language": "python",
   "name": "python3"
  },
  "language_info": {
   "codemirror_mode": {
    "name": "ipython",
    "version": 3
   },
   "file_extension": ".py",
   "mimetype": "text/x-python",
   "name": "python",
   "nbconvert_exporter": "python",
   "pygments_lexer": "ipython3",
   "version": "3.10.12"
  }
 },
 "nbformat": 4,
 "nbformat_minor": 2
}
